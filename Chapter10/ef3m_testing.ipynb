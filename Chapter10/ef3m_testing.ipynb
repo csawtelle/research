{
 "cells": [
  {
   "cell_type": "markdown",
   "metadata": {},
   "source": [
    "# EF3M Implementation Testing\n",
    "## Abstract\n",
    "This notebook tests the implementation of the EF3M algorithm using synthetic data as well as the example used in the source literature. This notebook is intended to provide convincing evidence of the accuracy of this EF3M implementation.\n",
    "## Introduction\n",
    "The Exact Fit of the first 3 Moments (EF3M) algorithm allows the parameters of a mixture of Gaussian distributions to be estimated given the first 5 moments of the mixture distribution, as well as the assumption that the mixture distribution is composed of a number of Gaussian distributions. The algorithm, its development, and its original implementation are described in López de Prado, M. and M. Foreman (2014): \"A mixture of Gaussians approach to mathematical portfolio oversight: The EF3M algorithm.\" _Quantitative Finance_, Vol. 14, No. 5, pp. 913-930. The implementation tested here can be found in the `EF3M\\ef3m.py` module located in this directory of the repository. Three test cases are presented. First, the example from the algorithm's source paper is presented to confirm that we can replicate the results of literature. Second, a user-defined mixture of 2 Gaussian distributions is generated and the EF3M implementation is tasked to recover the original mixture parameters from the raw moments of the synthetic distribution. Third, the second case is executed using a series of randomly chosen parameters from which to compose the mixture distribution. The notebook user can alter this at will but should keep in mind that running a large number of trials with hundreds or thousands of rounds each will take hours or days even using the current multiprocessing implementation.\n",
    "## Conclusion\n",
    "The tests run in this notebook conclude that using the EF3M algorithm to generate a series of estimates followed by a kernel density estimation to determine the most likely value for each parameter from said series results in a recovery of the original mixture parameters to within a very close tolerance. There appear to be at least two central solutions when fitting a mixture of two Gaussians, but both solutions appear to reproduce the mixture distribution, thus both can be considered viable and correct solutions in the absence of further evidence. \n",
    "## Next Steps\n",
    "The implementation tested here supports only distributions assumed to be composed of two Gaussian distributions. A natural next step would be to extend this algorithm to $n$ Gaussian distributions. This implementation would take exponentially more computing power but may prove useful in more complex mixtures. Additionally, extending or encapsulating these methods to make use of a distributed computing resource would greatly speed up simulations that consist of more than 1000 fits."
   ]
  },
  {
   "cell_type": "markdown",
   "metadata": {},
   "source": [
    "----\n",
    "----\n",
    "## Test Cases\n",
    "Test cases and accompanying code are described below. The next cell sets up some helper functions for the below analysis."
   ]
  },
  {
   "cell_type": "code",
   "execution_count": 1,
   "metadata": {},
   "outputs": [],
   "source": [
    "# imports\n",
    "import numpy as np\n",
    "import pandas as pd\n",
    "import seaborn as sns\n",
    "import matplotlib.pyplot as plt\n",
    "from dask.diagnostics import ProgressBar\n",
    "ProgressBar().register()\n",
    "from scipy.stats import gaussian_kde, moment\n",
    "from IPython.display import display\n",
    "\n",
    "# import function from our custom module\n",
    "from EF3M.ef3m import M2N, rawMoment\n",
    "\n",
    "# helper function for finding most likely parameter estimates\n",
    "def most_likely_parameters(data, ignore_columns='error', res=10_000):\n",
    "    # Determines the most likely parameter estimate using a KDE\n",
    "    # :param data: (pandas.DataFrame) contains parameter estimates from all runs\n",
    "    # :param ignore_columns: (string, list) column or columns to exclude from analysis\n",
    "    # :param res: (int) resolution of the kernel density estimate\n",
    "    # :return: (dict) labels and most likely estimates for parameters\n",
    "    # ===================================================\n",
    "    df = data.copy()\n",
    "    if isinstance(ignore_columns, str):\n",
    "        ignore_columns = [ignore_columns]\n",
    "    columns = [c for c in df.columns if c not in ignore_columns]\n",
    "    d_results = {}\n",
    "    for col in columns:\n",
    "        x_range = np.linspace(df[col].min(), df[col].max(), num=res)\n",
    "        kde = gaussian_kde(df[col].to_numpy())\n",
    "        y_kde = kde.evaluate(x_range)\n",
    "        top_value = round(x_range[np.argmax(y_kde)], 5)\n",
    "        d_results[col] = top_value\n",
    "    return d_results\n",
    "\n",
    "def mixture_samples(params, n=10_000):\n",
    "    # returns 'n' samples from a mixture distribution defined by 'params'\n",
    "    # :param params: (list) mixture parameters [mu1, mu2, sigma1, sigma2, p1]\n",
    "    # :param n: (int) number of samples to draw\n",
    "    # :return: (numpy.array) an array of the length 'n' of distribution mixture samples\n",
    "    # ===================================================\n",
    "    n1 = int(n*params[4])\n",
    "    n2 = n - n1\n",
    "    d1 = np.random.normal(params[0], params[2], n1)\n",
    "    d2 = np.random.normal(params[1], params[3], n2)\n",
    "    return np.concatenate((d1, d2))\n",
    "\n",
    "def plot_fit(true_list, fit_list, n=10_000):\n",
    "    # plots the true and fit mixture distributions\n",
    "    # :param true_list: (list) true parameters [mu1, mu2, sigma1, sigma2, p1]\n",
    "    # :param fit_list: (list) true parameters [mu1, mu2, sigma1, sigma2, p1]\n",
    "    # :param n: (int) number of samples to draw\n",
    "    # :return: (None)\n",
    "    # ===================================================\n",
    "    d_true = mixture_samples(true_list, n)\n",
    "    d_fit = mixture_samples(fit_list, n)\n",
    "    fig, ax = plt.subplots(figsize=(10, 8))\n",
    "    sns.distplot(d_true, kde=True, bins=200, ax=ax, label=f'True Mixture Distribution {true_list}')\n",
    "    sns.distplot(d_fit, kde=True, bins=200, ax=ax, label=f'Fitted Mixture Distribution {fit_list}')\n",
    "    ax.legend(loc='upper left')\n",
    "    plt.show()\n",
    "    return None\n"
   ]
  },
  {
   "cell_type": "markdown",
   "metadata": {},
   "source": [
    "----\n",
    "### Case 1: Example data from source literature\n",
    "López de Prado, M. and M. Foreman (2014): \"A mixture of Gaussians approach to mathematical portfolio oversight: The EF3M algorithm.\" _Quantitative Finance_, Vol. 14, No. 5, pp. 913-930. The below cell calculates the raw moments from the sample distribution parameters, $(-2, 1, 2, 1, \\frac{1}{10})$, as a demonstration of the helper functions. "
   ]
  },
  {
   "cell_type": "code",
   "execution_count": 2,
   "metadata": {},
   "outputs": [
    {
     "data": {
      "text/html": [
       "<div>\n",
       "<style scoped>\n",
       "    .dataframe tbody tr th:only-of-type {\n",
       "        vertical-align: middle;\n",
       "    }\n",
       "\n",
       "    .dataframe tbody tr th {\n",
       "        vertical-align: top;\n",
       "    }\n",
       "\n",
       "    .dataframe thead th {\n",
       "        text-align: right;\n",
       "    }\n",
       "</style>\n",
       "<table border=\"1\" class=\"dataframe\">\n",
       "  <thead>\n",
       "    <tr style=\"text-align: right;\">\n",
       "      <th></th>\n",
       "      <th>Moment</th>\n",
       "      <th>From paper</th>\n",
       "      <th>Central (about mean)</th>\n",
       "      <th>Raw (about origin)</th>\n",
       "      <th>Significance</th>\n",
       "    </tr>\n",
       "  </thead>\n",
       "  <tbody>\n",
       "    <tr>\n",
       "      <th>0</th>\n",
       "      <td>E[r^1]</td>\n",
       "      <td>0.7</td>\n",
       "      <td>0.000000</td>\n",
       "      <td>0.699748</td>\n",
       "      <td>Mean</td>\n",
       "    </tr>\n",
       "    <tr>\n",
       "      <th>1</th>\n",
       "      <td>E[r^2]</td>\n",
       "      <td>2.6</td>\n",
       "      <td>2.104333</td>\n",
       "      <td>2.593981</td>\n",
       "      <td>Variance</td>\n",
       "    </tr>\n",
       "    <tr>\n",
       "      <th>2</th>\n",
       "      <td>E[r^3]</td>\n",
       "      <td>0.4</td>\n",
       "      <td>-4.334569</td>\n",
       "      <td>0.425573</td>\n",
       "      <td>Skewness</td>\n",
       "    </tr>\n",
       "    <tr>\n",
       "      <th>3</th>\n",
       "      <td>E[r^4]</td>\n",
       "      <td>25.0</td>\n",
       "      <td>30.537914</td>\n",
       "      <td>24.827532</td>\n",
       "      <td>Kurtosis</td>\n",
       "    </tr>\n",
       "    <tr>\n",
       "      <th>4</th>\n",
       "      <td>E[r^5]</td>\n",
       "      <td>-59.8</td>\n",
       "      <td>-151.949741</td>\n",
       "      <td>-58.951739</td>\n",
       "      <td>Hyperskewness</td>\n",
       "    </tr>\n",
       "  </tbody>\n",
       "</table>\n",
       "</div>"
      ],
      "text/plain": [
       "   Moment  From paper  Central (about mean)  Raw (about origin)   Significance\n",
       "0  E[r^1]         0.7              0.000000            0.699748           Mean\n",
       "1  E[r^2]         2.6              2.104333            2.593981       Variance\n",
       "2  E[r^3]         0.4             -4.334569            0.425573       Skewness\n",
       "3  E[r^4]        25.0             30.537914           24.827532       Kurtosis\n",
       "4  E[r^5]       -59.8           -151.949741          -58.951739  Hyperskewness"
      ]
     },
     "metadata": {},
     "output_type": "display_data"
    }
   ],
   "source": [
    "# moments and parameters from source literature\n",
    "true_params = [-2, 1, 2, 1, 0.1]\n",
    "\n",
    "true_samples = mixture_samples(true_params, n=1_000_000)\n",
    "\n",
    "# calculate the central moments\n",
    "mmnts = [moment(true_samples, moment=i) for i in range(1, 6)]\n",
    "\n",
    "# calculate the raw moments\n",
    "raw_mmnts = rawMoment(central_moments=mmnts, dist_mean=np.mean(true_samples))\n",
    "\n",
    "# moments caluclated from the paper\n",
    "moments = [0.7, 2.6, 0.4, 25, -59.8]\n",
    "\n",
    "# let's look at the moments\n",
    "display(pd.DataFrame.from_dict({'Moment': [f'E[r^{i+1}]' for i, m in enumerate(mmnts)],\n",
    "                                'From paper': moments,\n",
    "                                'Central (about mean)': mmnts,\n",
    "                                'Raw (about origin)': raw_mmnts,\n",
    "                                'Significance': ['Mean', 'Variance', 'Skewness', 'Kurtosis', 'Hyperskewness']}))"
   ]
  },
  {
   "cell_type": "markdown",
   "metadata": {},
   "source": [
    "The cell below executes a number of fits and collects the results into a table of the most likely parameters (using a kernel density estimation), and the average and standard deviation of the difference between the true value and fit values from each fitting run. The cell after this plots the distributions generated from the true and most likely parameters as an ultimate comparison of the fit. It is especially useful in instances where the most likely set of fitted parameters is one of the multiple solutions that does not exactly match the true parameters."
   ]
  },
  {
   "cell_type": "code",
   "execution_count": 3,
   "metadata": {},
   "outputs": [
    {
     "name": "stdout",
     "output_type": "stream",
     "text": [
      "[########################################] | 100% Completed |  3.5s\n",
      "[########################################] | 100% Completed |  1min 30.3s\n"
     ]
    },
    {
     "data": {
      "text/html": [
       "<div>\n",
       "<style scoped>\n",
       "    .dataframe tbody tr th:only-of-type {\n",
       "        vertical-align: middle;\n",
       "    }\n",
       "\n",
       "    .dataframe tbody tr th {\n",
       "        vertical-align: top;\n",
       "    }\n",
       "\n",
       "    .dataframe thead th {\n",
       "        text-align: right;\n",
       "    }\n",
       "</style>\n",
       "<table border=\"1\" class=\"dataframe\">\n",
       "  <thead>\n",
       "    <tr style=\"text-align: right;\">\n",
       "      <th></th>\n",
       "      <th>Parameter</th>\n",
       "      <th>Original</th>\n",
       "      <th>Most Likely</th>\n",
       "      <th>Deviation Average</th>\n",
       "      <th>Deviation StDev</th>\n",
       "    </tr>\n",
       "  </thead>\n",
       "  <tbody>\n",
       "    <tr>\n",
       "      <th>0</th>\n",
       "      <td>mu1</td>\n",
       "      <td>-2.0</td>\n",
       "      <td>-1.67008</td>\n",
       "      <td>-0.216415</td>\n",
       "      <td>0.189986</td>\n",
       "    </tr>\n",
       "    <tr>\n",
       "      <th>1</th>\n",
       "      <td>mu2</td>\n",
       "      <td>1.0</td>\n",
       "      <td>1.01260</td>\n",
       "      <td>-0.007874</td>\n",
       "      <td>0.007190</td>\n",
       "    </tr>\n",
       "    <tr>\n",
       "      <th>2</th>\n",
       "      <td>sigma1</td>\n",
       "      <td>2.0</td>\n",
       "      <td>2.10241</td>\n",
       "      <td>-0.065961</td>\n",
       "      <td>0.058153</td>\n",
       "    </tr>\n",
       "    <tr>\n",
       "      <th>3</th>\n",
       "      <td>sigma2</td>\n",
       "      <td>1.0</td>\n",
       "      <td>0.98702</td>\n",
       "      <td>0.010526</td>\n",
       "      <td>0.009302</td>\n",
       "    </tr>\n",
       "    <tr>\n",
       "      <th>4</th>\n",
       "      <td>p1</td>\n",
       "      <td>0.1</td>\n",
       "      <td>0.11494</td>\n",
       "      <td>-0.010897</td>\n",
       "      <td>0.009529</td>\n",
       "    </tr>\n",
       "  </tbody>\n",
       "</table>\n",
       "</div>"
      ],
      "text/plain": [
       "  Parameter  Original  Most Likely  Deviation Average  Deviation StDev\n",
       "0       mu1      -2.0     -1.67008          -0.216415         0.189986\n",
       "1       mu2       1.0      1.01260          -0.007874         0.007190\n",
       "2    sigma1       2.0      2.10241          -0.065961         0.058153\n",
       "3    sigma2       1.0      0.98702           0.010526         0.009302\n",
       "4        p1       0.1      0.11494          -0.010897         0.009529"
      ]
     },
     "metadata": {},
     "output_type": "display_data"
    }
   ],
   "source": [
    "# 20_000 runs takes approx. 4h30min (Intel i7-7700K)\n",
    "\n",
    "n_runs = 100\n",
    "epsilon = 10**-6\n",
    "factor = 5\n",
    "\n",
    "m2n = M2N(moments)\n",
    "df2 = m2n.mpFit(moments, epsilon=epsilon, factor=factor, n_runs=n_runs, variant=2, maxIter=10_000_000)\n",
    "df2 = df2.sort_values('error')\n",
    "results = most_likely_parameters(df2)\n",
    "\n",
    "# setup comparison DataFrame\n",
    "para_cols = ['mu1', 'mu2', 'sigma1', 'sigma2', 'p1']\n",
    "\n",
    "for ei, pcol in enumerate(para_cols):\n",
    "    df2[pcol+'_err'] = true_params[ei] - df2[pcol]\n",
    "\n",
    "df_results_case1 = pd.DataFrame.from_dict({'Parameter': ['mu1', 'mu2', 'sigma1', 'sigma2', 'p1'],\n",
    "                                           'Original': true_params,\n",
    "                                           'Most Likely': list(results.values()),\n",
    "                                           'Deviation Average': [df2[col].mean() for col in [p+'_err' for p in para_cols]],\n",
    "                                           'Deviation StDev': [df2[col].std() for col in [p+'_err' for p in para_cols]]})\n",
    "\n",
    "display(df_results_case1)"
   ]
  },
  {
   "cell_type": "code",
   "execution_count": 4,
   "metadata": {},
   "outputs": [
    {
     "data": {
      "image/png": "[encoded data removed]",
      "text/plain": [
       "<Figure size 720x576 with 1 Axes>"
      ]
     },
     "metadata": {
      "needs_background": "light"
     },
     "output_type": "display_data"
    }
   ],
   "source": [
    "# plot the distributions generated from the true and most likely parameters\n",
    "plot_fit(true_params, list(results.values()), n=100_000)"
   ]
  },
  {
   "cell_type": "markdown",
   "metadata": {},
   "source": [
    "----\n",
    "### Case 2: User-defined single example\n",
    "Define the parameters of the two Gaussian distributions to mix in the cell below."
   ]
  },
  {
   "cell_type": "code",
   "execution_count": 5,
   "metadata": {},
   "outputs": [],
   "source": [
    "# setup user sample\n",
    "mu1 = -1\n",
    "mu2 = 4\n",
    "sigma1 = 2\n",
    "sigma2 = 1.5\n",
    "p1 = 0.45"
   ]
  },
  {
   "cell_type": "markdown",
   "metadata": {},
   "source": [
    "Below we generate the mixture, and then calculate the central moments (using `scipy.stats.moment`) and finally the raw momments (about the origin) as required by the EF3M algorithm."
   ]
  },
  {
   "cell_type": "code",
   "execution_count": 6,
   "metadata": {},
   "outputs": [
    {
     "data": {
      "text/html": [
       "<div>\n",
       "<style scoped>\n",
       "    .dataframe tbody tr th:only-of-type {\n",
       "        vertical-align: middle;\n",
       "    }\n",
       "\n",
       "    .dataframe tbody tr th {\n",
       "        vertical-align: top;\n",
       "    }\n",
       "\n",
       "    .dataframe thead th {\n",
       "        text-align: right;\n",
       "    }\n",
       "</style>\n",
       "<table border=\"1\" class=\"dataframe\">\n",
       "  <thead>\n",
       "    <tr style=\"text-align: right;\">\n",
       "      <th></th>\n",
       "      <th>Moment</th>\n",
       "      <th>Central (about mean)</th>\n",
       "      <th>Raw (about origin)</th>\n",
       "      <th>Significance</th>\n",
       "    </tr>\n",
       "  </thead>\n",
       "  <tbody>\n",
       "    <tr>\n",
       "      <th>0</th>\n",
       "      <td>E[r^1]</td>\n",
       "      <td>0.000000</td>\n",
       "      <td>1.760375</td>\n",
       "      <td>Mean</td>\n",
       "    </tr>\n",
       "    <tr>\n",
       "      <th>1</th>\n",
       "      <td>E[r^2]</td>\n",
       "      <td>9.235060</td>\n",
       "      <td>12.333982</td>\n",
       "      <td>Variance</td>\n",
       "    </tr>\n",
       "    <tr>\n",
       "      <th>2</th>\n",
       "      <td>E[r^3]</td>\n",
       "      <td>-9.836957</td>\n",
       "      <td>44.389828</td>\n",
       "      <td>Skewness</td>\n",
       "    </tr>\n",
       "    <tr>\n",
       "      <th>3</th>\n",
       "      <td>E[r^4]</td>\n",
       "      <td>190.818753</td>\n",
       "      <td>302.867491</td>\n",
       "      <td>Kurtosis</td>\n",
       "    </tr>\n",
       "    <tr>\n",
       "      <th>4</th>\n",
       "      <td>E[r^5]</td>\n",
       "      <td>-495.394225</td>\n",
       "      <td>1400.031957</td>\n",
       "      <td>Hyperskewness</td>\n",
       "    </tr>\n",
       "  </tbody>\n",
       "</table>\n",
       "</div>"
      ],
      "text/plain": [
       "   Moment  Central (about mean)  Raw (about origin)   Significance\n",
       "0  E[r^1]              0.000000            1.760375           Mean\n",
       "1  E[r^2]              9.235060           12.333982       Variance\n",
       "2  E[r^3]             -9.836957           44.389828       Skewness\n",
       "3  E[r^4]            190.818753          302.867491       Kurtosis\n",
       "4  E[r^5]           -495.394225         1400.031957  Hyperskewness"
      ]
     },
     "metadata": {},
     "output_type": "display_data"
    }
   ],
   "source": [
    "# generate 10_000 samples for our custom mixture distribution\n",
    "true_params = [mu1, mu2, sigma1, sigma2, p1]\n",
    "true_samples = mixture_samples(true_params, n=100_000)\n",
    "\n",
    "# calculate the central moments\n",
    "mmnts = [moment(true_samples, moment=i) for i in range(1, 6)]\n",
    "\n",
    "# calculate the raw moments\n",
    "raw_mmnts = rawMoment(central_moments=mmnts, dist_mean=np.mean(true_samples))\n",
    "\n",
    "# let's look at the moments\n",
    "display(pd.DataFrame.from_dict({'Moment':[f'E[r^{i+1}]' for i, m in enumerate(mmnts)],\n",
    "                                'Central (about mean)': mmnts,\n",
    "                                'Raw (about origin)': raw_mmnts,\n",
    "                                'Significance': ['Mean', 'Variance', 'Skewness', 'Kurtosis', 'Hyperskewness']}))"
   ]
  },
  {
   "cell_type": "markdown",
   "metadata": {},
   "source": [
    "Now create the M2N object and run a fit. Take a look at the top values, find the most likely values, and plot to compare the original distribution against the distribution made using the recovered parameters. Try adjusting the `n_runs`, or `epsilon` in `m2n.mpFit` to get better results. Variant 2 usually converges faster than variant 1 and typically leads to a lower error, but both are available for use."
   ]
  },
  {
   "cell_type": "code",
   "execution_count": 7,
   "metadata": {},
   "outputs": [
    {
     "name": "stdout",
     "output_type": "stream",
     "text": [
      "[                                        ] | 0% Completed |  0.4s"
     ]
    },
    {
     "name": "stderr",
     "output_type": "stream",
     "text": [
      "D:\\GitProjects\\research\\Chapter10\\EF3M\\ef3m.py:206: RuntimeWarning: invalid value encountered in double_scalars\n",
      "  (1-p1 ) )**.5\n"
     ]
    },
    {
     "name": "stdout",
     "output_type": "stream",
     "text": [
      "[########################################] | 100% Completed | 16.3s\n",
      "[########################################] | 100% Completed |  3min 34.0s\n"
     ]
    },
    {
     "data": {
      "text/plain": [
       "'Top values from the EF3M fit:'"
      ]
     },
     "metadata": {},
     "output_type": "display_data"
    },
    {
     "data": {
      "text/html": [
       "<div>\n",
       "<style scoped>\n",
       "    .dataframe tbody tr th:only-of-type {\n",
       "        vertical-align: middle;\n",
       "    }\n",
       "\n",
       "    .dataframe tbody tr th {\n",
       "        vertical-align: top;\n",
       "    }\n",
       "\n",
       "    .dataframe thead th {\n",
       "        text-align: right;\n",
       "    }\n",
       "</style>\n",
       "<table border=\"1\" class=\"dataframe\">\n",
       "  <thead>\n",
       "    <tr style=\"text-align: right;\">\n",
       "      <th></th>\n",
       "      <th>mu1</th>\n",
       "      <th>mu2</th>\n",
       "      <th>sigma1</th>\n",
       "      <th>sigma2</th>\n",
       "      <th>p1</th>\n",
       "      <th>error</th>\n",
       "    </tr>\n",
       "  </thead>\n",
       "  <tbody>\n",
       "    <tr>\n",
       "      <th>38</th>\n",
       "      <td>-0.944451</td>\n",
       "      <td>4.028606</td>\n",
       "      <td>2.037690</td>\n",
       "      <td>1.489345</td>\n",
       "      <td>0.456085</td>\n",
       "      <td>0.000024</td>\n",
       "    </tr>\n",
       "    <tr>\n",
       "      <th>12</th>\n",
       "      <td>-0.944663</td>\n",
       "      <td>4.027346</td>\n",
       "      <td>2.038082</td>\n",
       "      <td>1.490317</td>\n",
       "      <td>0.455966</td>\n",
       "      <td>0.000031</td>\n",
       "    </tr>\n",
       "    <tr>\n",
       "      <th>20</th>\n",
       "      <td>-0.945562</td>\n",
       "      <td>4.026749</td>\n",
       "      <td>2.037701</td>\n",
       "      <td>1.490647</td>\n",
       "      <td>0.455845</td>\n",
       "      <td>0.000174</td>\n",
       "    </tr>\n",
       "    <tr>\n",
       "      <th>41</th>\n",
       "      <td>-0.944415</td>\n",
       "      <td>4.030619</td>\n",
       "      <td>2.036850</td>\n",
       "      <td>1.487740</td>\n",
       "      <td>0.456251</td>\n",
       "      <td>0.000289</td>\n",
       "    </tr>\n",
       "    <tr>\n",
       "      <th>47</th>\n",
       "      <td>-0.946165</td>\n",
       "      <td>4.028429</td>\n",
       "      <td>2.036549</td>\n",
       "      <td>1.489205</td>\n",
       "      <td>0.455932</td>\n",
       "      <td>0.000416</td>\n",
       "    </tr>\n",
       "  </tbody>\n",
       "</table>\n",
       "</div>"
      ],
      "text/plain": [
       "         mu1       mu2    sigma1    sigma2        p1     error\n",
       "38 -0.944451  4.028606  2.037690  1.489345  0.456085  0.000024\n",
       "12 -0.944663  4.027346  2.038082  1.490317  0.455966  0.000031\n",
       "20 -0.945562  4.026749  2.037701  1.490647  0.455845  0.000174\n",
       "41 -0.944415  4.030619  2.036850  1.487740  0.456251  0.000289\n",
       "47 -0.946165  4.028429  2.036549  1.489205  0.455932  0.000416"
      ]
     },
     "metadata": {},
     "output_type": "display_data"
    },
    {
     "data": {
      "text/html": [
       "<div>\n",
       "<style scoped>\n",
       "    .dataframe tbody tr th:only-of-type {\n",
       "        vertical-align: middle;\n",
       "    }\n",
       "\n",
       "    .dataframe tbody tr th {\n",
       "        vertical-align: top;\n",
       "    }\n",
       "\n",
       "    .dataframe thead th {\n",
       "        text-align: right;\n",
       "    }\n",
       "</style>\n",
       "<table border=\"1\" class=\"dataframe\">\n",
       "  <thead>\n",
       "    <tr style=\"text-align: right;\">\n",
       "      <th></th>\n",
       "      <th>Original</th>\n",
       "      <th>Estimated</th>\n",
       "    </tr>\n",
       "  </thead>\n",
       "  <tbody>\n",
       "    <tr>\n",
       "      <th>0</th>\n",
       "      <td>-1.00</td>\n",
       "      <td>-0.94589</td>\n",
       "    </tr>\n",
       "    <tr>\n",
       "      <th>1</th>\n",
       "      <td>4.00</td>\n",
       "      <td>4.02384</td>\n",
       "    </tr>\n",
       "    <tr>\n",
       "      <th>2</th>\n",
       "      <td>2.00</td>\n",
       "      <td>2.03795</td>\n",
       "    </tr>\n",
       "    <tr>\n",
       "      <th>3</th>\n",
       "      <td>1.50</td>\n",
       "      <td>1.49354</td>\n",
       "    </tr>\n",
       "    <tr>\n",
       "      <th>4</th>\n",
       "      <td>0.45</td>\n",
       "      <td>0.45586</td>\n",
       "    </tr>\n",
       "  </tbody>\n",
       "</table>\n",
       "</div>"
      ],
      "text/plain": [
       "   Original  Estimated\n",
       "0     -1.00   -0.94589\n",
       "1      4.00    4.02384\n",
       "2      2.00    2.03795\n",
       "3      1.50    1.49354\n",
       "4      0.45    0.45586"
      ]
     },
     "metadata": {},
     "output_type": "display_data"
    },
    {
     "data": {
      "image/png": "[encoded data removed]",
      "text/plain": [
       "<Figure size 720x576 with 1 Axes>"
      ]
     },
     "metadata": {
      "needs_background": "light"
     },
     "output_type": "display_data"
    }
   ],
   "source": [
    "n_runs = 50\n",
    "epsiolon = 10**-5\n",
    "factor = 5\n",
    "\n",
    "m2n = M2N(raw_mmnts)\n",
    "df_results = m2n.mpFit(raw_mmnts, epsilon=epsilon, factor=factor, n_runs=n_runs, variant=2, maxIter=10_000_000)\n",
    "display(\"Top values from the EF3M fit:\")\n",
    "display(df_results.head())\n",
    "results = most_likely_parameters(df_results)\n",
    "display(pd.DataFrame.from_dict({'Original': true_params,\n",
    "                                'Estimated': list(results.values())}))\n",
    "plot_fit(true_params, list(results.values()), n=100_000)  # adjust 'n' to get a smoother distribution"
   ]
  },
  {
   "cell_type": "markdown",
   "metadata": {},
   "source": [
    "----\n",
    "### Case 3: Series of randomly generated examples\n",
    "In López de Prado and Foreman (2014), the authors used randomly generated Gaussian mixture distributions to test that the EF3M algorithm performed well in general. The parameter tuple desribing the observed distribution, $(\\tilde{\\mu}_1, \\tilde{\\mu}_2, \\tilde{\\sigma}_1, \\tilde{\\sigma}_2, \\tilde{p}_1)$, was drawn from the uniform distribution with boundaries $-1 \\leq \\mu_1 \\leq 0 \\leq \\mu_2 \\leq 1$, $0 < \\sigma_1 \\leq 1$, $0 < \\sigma_2 \\leq 1$, $0 < p < 1$. This is reflected in the code below. Change the number of rounds, number of fits per round, and mixture parameters to test additional scenarios. Authors used 10,000 test rounds and 10,000 fits per round, but note that running this on a single developer workstation will take days or weeks to complete, so smaller numbers are advised."
   ]
  },
  {
   "cell_type": "code",
   "execution_count": 8,
   "metadata": {},
   "outputs": [
    {
     "name": "stdout",
     "output_type": "stream",
     "text": [
      "[                                        ] | 0% Completed |  0.4s"
     ]
    },
    {
     "name": "stderr",
     "output_type": "stream",
     "text": [
      "D:\\GitProjects\\research\\Chapter10\\EF3M\\ef3m.py:206: RuntimeWarning: invalid value encountered in double_scalars\n",
      "  (1-p1 ) )**.5\n"
     ]
    },
    {
     "name": "stdout",
     "output_type": "stream",
     "text": [
      "[########################################] | 100% Completed |  9.9s\n",
      "[########################################] | 100% Completed | 27.9s\n",
      "[                                        ] | 0% Completed |  0.5s"
     ]
    },
    {
     "name": "stderr",
     "output_type": "stream",
     "text": [
      "D:\\GitProjects\\research\\Chapter10\\EF3M\\ef3m.py:206: RuntimeWarning: invalid value encountered in double_scalars\n",
      "  (1-p1 ) )**.5\n"
     ]
    },
    {
     "name": "stdout",
     "output_type": "stream",
     "text": [
      "[########################################] | 100% Completed |  8.6s\n",
      "[########################################] | 100% Completed | 23.8s\n",
      "[                                        ] | 0% Completed |  0.6s"
     ]
    },
    {
     "name": "stderr",
     "output_type": "stream",
     "text": [
      "D:\\GitProjects\\research\\Chapter10\\EF3M\\ef3m.py:206: RuntimeWarning: invalid value encountered in double_scalars\n",
      "  (1-p1 ) )**.5\n"
     ]
    },
    {
     "name": "stdout",
     "output_type": "stream",
     "text": [
      "[########################################] | 100% Completed |  9.7s\n",
      "[########################################] | 100% Completed | 25.8s\n",
      "[                                        ] | 0% Completed |  0.5s"
     ]
    },
    {
     "name": "stderr",
     "output_type": "stream",
     "text": [
      "D:\\GitProjects\\research\\Chapter10\\EF3M\\ef3m.py:206: RuntimeWarning: invalid value encountered in double_scalars\n",
      "  (1-p1 ) )**.5\n"
     ]
    },
    {
     "name": "stdout",
     "output_type": "stream",
     "text": [
      "[########################################] | 100% Completed |  6.3s\n",
      "[########################################] | 100% Completed | 18.0s\n",
      "[                                        ] | 0% Completed |  0.5s"
     ]
    },
    {
     "name": "stderr",
     "output_type": "stream",
     "text": [
      "D:\\GitProjects\\research\\Chapter10\\EF3M\\ef3m.py:206: RuntimeWarning: invalid value encountered in double_scalars\n",
      "  (1-p1 ) )**.5\n"
     ]
    },
    {
     "name": "stdout",
     "output_type": "stream",
     "text": [
      "[########################################] | 100% Completed |  6.3s\n",
      "[########################################] | 100% Completed | 18.4s\n",
      "Compare results to Figure 4 in López de Prado and Foreman (2014)\n"
     ]
    },
    {
     "data": {
      "text/html": [
       "<div>\n",
       "<style scoped>\n",
       "    .dataframe tbody tr th:only-of-type {\n",
       "        vertical-align: middle;\n",
       "    }\n",
       "\n",
       "    .dataframe tbody tr th {\n",
       "        vertical-align: top;\n",
       "    }\n",
       "\n",
       "    .dataframe thead th {\n",
       "        text-align: right;\n",
       "    }\n",
       "</style>\n",
       "<table border=\"1\" class=\"dataframe\">\n",
       "  <thead>\n",
       "    <tr style=\"text-align: right;\">\n",
       "      <th></th>\n",
       "      <th>Errors</th>\n",
       "      <th>Errors Average</th>\n",
       "      <th>Errors StDev</th>\n",
       "      <th>Deviation</th>\n",
       "      <th>Deviation Average</th>\n",
       "      <th>Deviation StDev</th>\n",
       "    </tr>\n",
       "  </thead>\n",
       "  <tbody>\n",
       "    <tr>\n",
       "      <th>0</th>\n",
       "      <td>1</td>\n",
       "      <td>-0.211127</td>\n",
       "      <td>0.393430</td>\n",
       "      <td>mu1</td>\n",
       "      <td>-0.018008</td>\n",
       "      <td>0.038145</td>\n",
       "    </tr>\n",
       "    <tr>\n",
       "      <th>1</th>\n",
       "      <td>2</td>\n",
       "      <td>-0.166324</td>\n",
       "      <td>0.107262</td>\n",
       "      <td>mu2</td>\n",
       "      <td>0.012970</td>\n",
       "      <td>0.017963</td>\n",
       "    </tr>\n",
       "    <tr>\n",
       "      <th>2</th>\n",
       "      <td>3</td>\n",
       "      <td>-0.303060</td>\n",
       "      <td>0.664547</td>\n",
       "      <td>sigma1</td>\n",
       "      <td>-0.016520</td>\n",
       "      <td>0.019749</td>\n",
       "    </tr>\n",
       "    <tr>\n",
       "      <th>3</th>\n",
       "      <td>4</td>\n",
       "      <td>0.185415</td>\n",
       "      <td>0.732212</td>\n",
       "      <td>sigma2</td>\n",
       "      <td>-0.010714</td>\n",
       "      <td>0.032112</td>\n",
       "    </tr>\n",
       "    <tr>\n",
       "      <th>4</th>\n",
       "      <td>5</td>\n",
       "      <td>-1.436943</td>\n",
       "      <td>2.631109</td>\n",
       "      <td>p1</td>\n",
       "      <td>-0.006016</td>\n",
       "      <td>0.018366</td>\n",
       "    </tr>\n",
       "  </tbody>\n",
       "</table>\n",
       "</div>"
      ],
      "text/plain": [
       "   Errors  Errors Average  Errors StDev Deviation  Deviation Average  \\\n",
       "0       1       -0.211127      0.393430       mu1          -0.018008   \n",
       "1       2       -0.166324      0.107262       mu2           0.012970   \n",
       "2       3       -0.303060      0.664547    sigma1          -0.016520   \n",
       "3       4        0.185415      0.732212    sigma2          -0.010714   \n",
       "4       5       -1.436943      2.631109        p1          -0.006016   \n",
       "\n",
       "   Deviation StDev  \n",
       "0         0.038145  \n",
       "1         0.017963  \n",
       "2         0.019749  \n",
       "3         0.032112  \n",
       "4         0.018366  "
      ]
     },
     "metadata": {},
     "output_type": "display_data"
    }
   ],
   "source": [
    "\n",
    "test_rounds = 5  # number of random tests to conduct\n",
    "fit_runs = 10  # M2N fitting rouns per round\n",
    "epsiolon = 10**-5\n",
    "factor = 5\n",
    "\n",
    "# define parameter ranges, (low, high)\n",
    "mu1_range = (-1, 0)\n",
    "mu2_range = (0, 1)\n",
    "sigma1_range = (1e-5, 1)\n",
    "sigma2_range = (1e-5, 1)\n",
    "p1_range = (1e-5, 1-1e-5)\n",
    "\n",
    "param_ranges = [mu1_range, mu2_range, sigma1_range, sigma2_range, p1_range]\n",
    "true_collection, fit_collection = [], []\n",
    "mu1_err, mu2_err, sigma1_err, sigma2_err, p1_err = [], [], [], [], []\n",
    "m1_err, m2_err, m3_err, m4_err, m5_err = [], [], [], [], []\n",
    "\n",
    "for round_i in range(test_rounds):\n",
    "    true_params = [np.random.uniform(r[0], r[1]) for r in param_ranges]  # generate random parameters\n",
    "    true_samples = mixture_samples(true_params, n=10_000)\n",
    "    mmnts = [moment(true_samples, moment=i) for i in range(1, 6)]  # calculate the central moments\n",
    "    raw_mmnts = rawMoment(central_moments=mmnts, dist_mean=np.mean(true_samples))  # calculate the raw moments\n",
    "    m2n = M2N(raw_mmnts)\n",
    "    df_results = m2n.mpFit(raw_mmnts, epsilon=epsilon, factor=factor, n_runs=fit_runs, variant=2, maxIter=10_000_000)\n",
    "    results = list(most_likely_parameters(df_results).values())\n",
    "    fit_mmnts = m2n.get_moments(results)\n",
    "    \n",
    "    # store results\n",
    "    true_collection.append(true_params)\n",
    "    fit_collection.append(results)\n",
    "    \n",
    "    # store parameter deviations\n",
    "    for ai, a_err in enumerate([mu1_err, mu2_err, sigma1_err, sigma2_err, p1_err]):\n",
    "        a_err.append(true_params[ai] - results[ai])\n",
    "    \n",
    "    # store moment deviation\n",
    "    for bi, m_err in enumerate([m1_err, m2_err, m3_err, m4_err, m5_err]):\n",
    "        m_err.append(mmnts[bi] - fit_mmnts[bi])\n",
    "    \n",
    "\n",
    "df_collection = pd.DataFrame.from_dict({'Original': true_collection,\n",
    "                                        'Fit': fit_collection,\n",
    "                                        'mu1_err': mu1_err, 'mu2_err': mu2_err, 'sigma1_err': sigma1_err, 'sigma2_err': sigma2_err, 'p1_err': p1_err,\n",
    "                                        'm1_err': m1_err, 'm2_err': m2_err, 'm3_err': m3_err, 'm4_err': m4_err, 'm5_err': m5_err})\n",
    "\n",
    "err_cols = ['mu1_err', 'mu2_err', 'sigma1_err', 'sigma2_err', 'p1_err']\n",
    "m_cols = ['m1_err', 'm2_err', 'm3_err', 'm4_err', 'm5_err']\n",
    "\n",
    "df_results_case2 = pd.DataFrame.from_dict({'Errors': [1, 2, 3, 4, 5],\n",
    "                                           'Errors Average': [df_collection[col].mean() for col in m_cols],\n",
    "                                           'Errors StDev': [df_collection[col].std() for col in m_cols],\n",
    "                                           'Deviation': ['mu1', 'mu2', 'sigma1', 'sigma2', 'p1'],\n",
    "                                           'Deviation Average': [df_collection[col].mean() for col in err_cols],\n",
    "                                           'Deviation StDev': [df_collection[col].std() for col in err_cols]})\n",
    "\n",
    "print(\"Compare results to Figure 4 in López de Prado and Foreman (2014)\")\n",
    "display(df_results_case2)"
   ]
  }
 ],
 "metadata": {
  "kernelspec": {
   "display_name": "Python 3",
   "language": "python",
   "name": "python3"
  },
  "language_info": {
   "codemirror_mode": {
    "name": "ipython",
    "version": 3
   },
   "file_extension": ".py",
   "mimetype": "text/x-python",
   "name": "python",
   "nbconvert_exporter": "python",
   "pygments_lexer": "ipython3",
   "version": "3.7.3"
  }
 },
 "nbformat": 4,
 "nbformat_minor": 2
}
